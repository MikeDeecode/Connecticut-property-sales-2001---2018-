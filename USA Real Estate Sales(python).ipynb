{
 "cells": [
  {
   "cell_type": "markdown",
   "metadata": {},
   "source": [
    "# **PROPERTY SALES IN CONNECTICUT, UNITED STATES OF AMERICA FROM 2001 TO 2018**"
   ]
  },
  {
   "cell_type": "markdown",
   "metadata": {},
   "source": [
    "This dataset was obtained from data.gov \n",
    "\n",
    "Details of this project is contained in the readme file"
   ]
  },
  {
   "cell_type": "code",
   "execution_count": 54,
   "metadata": {},
   "outputs": [
    {
     "name": "stdout",
     "output_type": "stream",
     "text": [
      "Setup complete!\n"
     ]
    }
   ],
   "source": [
    "#import the required libraries \n",
    "import numpy as np\n",
    "import pandas as pd \n",
    "import matplotlib.pyplot as plt \n",
    "%matplotlib inline\n",
    "import seaborn as sns \n",
    "import warnings\n",
    "warnings.filterwarnings('ignore') #to prevent python from warning me \n",
    "%matplotlib inline  \n",
    "import os #I use this to check for files locally before reading them into my notebook \n",
    "\n",
    "print (\"Setup complete!\")"
   ]
  },
  {
   "cell_type": "code",
   "execution_count": 55,
   "metadata": {},
   "outputs": [
    {
     "data": {
      "text/plain": [
       "True"
      ]
     },
     "execution_count": 55,
     "metadata": {},
     "output_type": "execute_result"
    }
   ],
   "source": [
    "os.path.isfile(\"F:/Data Science/My Datasets/Real_Estate_Sales_2001-2018.csv\")"
   ]
  },
  {
   "cell_type": "code",
   "execution_count": 56,
   "metadata": {},
   "outputs": [
    {
     "name": "stdout",
     "output_type": "stream",
     "text": [
      "Import successful\n"
     ]
    }
   ],
   "source": [
    "filepath = \"F:/Data Science/My Datasets/Real_Estate_Sales_2001-2018.csv\"\n",
    "real_estate = pd.read_csv(filepath)\n",
    "print(\"Import successful\")"
   ]
  },
  {
   "cell_type": "code",
   "execution_count": 57,
   "metadata": {},
   "outputs": [
    {
     "data": {
      "text/plain": [
       "(912302, 13)"
      ]
     },
     "execution_count": 57,
     "metadata": {},
     "output_type": "execute_result"
    }
   ],
   "source": [
    "real_estate.shape"
   ]
  },
  {
   "cell_type": "markdown",
   "metadata": {},
   "source": [
    "- There are 912,302 properties recorded and 12 features "
   ]
  },
  {
   "cell_type": "code",
   "execution_count": 58,
   "metadata": {},
   "outputs": [
    {
     "data": {
      "text/html": [
       "<div>\n",
       "<style scoped>\n",
       "    .dataframe tbody tr th:only-of-type {\n",
       "        vertical-align: middle;\n",
       "    }\n",
       "\n",
       "    .dataframe tbody tr th {\n",
       "        vertical-align: top;\n",
       "    }\n",
       "\n",
       "    .dataframe thead th {\n",
       "        text-align: right;\n",
       "    }\n",
       "</style>\n",
       "<table border=\"1\" class=\"dataframe\">\n",
       "  <thead>\n",
       "    <tr style=\"text-align: right;\">\n",
       "      <th></th>\n",
       "      <th>SerialNumber</th>\n",
       "      <th>ListYear</th>\n",
       "      <th>DateRecorded</th>\n",
       "      <th>Town</th>\n",
       "      <th>Address</th>\n",
       "      <th>AssessedValue</th>\n",
       "      <th>SaleAmount</th>\n",
       "      <th>SalesRatio</th>\n",
       "      <th>PropertyType</th>\n",
       "      <th>ResidentialType</th>\n",
       "      <th>NonUseCode</th>\n",
       "      <th>Remarks</th>\n",
       "      <th>NumberOfBuildings</th>\n",
       "    </tr>\n",
       "  </thead>\n",
       "  <tbody>\n",
       "    <tr>\n",
       "      <th>0</th>\n",
       "      <td>17001</td>\n",
       "      <td>2017</td>\n",
       "      <td>10/02/2017</td>\n",
       "      <td>Andover</td>\n",
       "      <td>27 HENDEE RD</td>\n",
       "      <td>58400.0</td>\n",
       "      <td>82000.0</td>\n",
       "      <td>0.712</td>\n",
       "      <td>NaN</td>\n",
       "      <td>Single Family</td>\n",
       "      <td>NaN</td>\n",
       "      <td>NaN</td>\n",
       "      <td>NaN</td>\n",
       "    </tr>\n",
       "    <tr>\n",
       "      <th>1</th>\n",
       "      <td>40043</td>\n",
       "      <td>2004</td>\n",
       "      <td>05/19/2005</td>\n",
       "      <td>Andover</td>\n",
       "      <td>BURNAP BRK RD</td>\n",
       "      <td>850.0</td>\n",
       "      <td>50000.0</td>\n",
       "      <td>1.700</td>\n",
       "      <td>Vacant Land</td>\n",
       "      <td>NaN</td>\n",
       "      <td>28</td>\n",
       "      <td>NaN</td>\n",
       "      <td>NaN</td>\n",
       "    </tr>\n",
       "    <tr>\n",
       "      <th>2</th>\n",
       "      <td>30070</td>\n",
       "      <td>2003</td>\n",
       "      <td>08/02/2004</td>\n",
       "      <td>Andover</td>\n",
       "      <td>ROUTE 6</td>\n",
       "      <td>157300.0</td>\n",
       "      <td>175000.0</td>\n",
       "      <td>89.880</td>\n",
       "      <td>Vacant Land</td>\n",
       "      <td>NaN</td>\n",
       "      <td>0</td>\n",
       "      <td>NaN</td>\n",
       "      <td>NaN</td>\n",
       "    </tr>\n",
       "    <tr>\n",
       "      <th>3</th>\n",
       "      <td>40036</td>\n",
       "      <td>2004</td>\n",
       "      <td>04/29/2005</td>\n",
       "      <td>Andover</td>\n",
       "      <td>ROUTE 6</td>\n",
       "      <td>22400.0</td>\n",
       "      <td>20000.0</td>\n",
       "      <td>112.000</td>\n",
       "      <td>Vacant Land</td>\n",
       "      <td>NaN</td>\n",
       "      <td>25</td>\n",
       "      <td>NaN</td>\n",
       "      <td>NaN</td>\n",
       "    </tr>\n",
       "    <tr>\n",
       "      <th>4</th>\n",
       "      <td>170003</td>\n",
       "      <td>2017</td>\n",
       "      <td>10/02/2017</td>\n",
       "      <td>Branford</td>\n",
       "      <td>22-24 SILVER ST</td>\n",
       "      <td>205500.0</td>\n",
       "      <td>357500.0</td>\n",
       "      <td>0.575</td>\n",
       "      <td>NaN</td>\n",
       "      <td>Two Family</td>\n",
       "      <td>NaN</td>\n",
       "      <td>NaN</td>\n",
       "      <td>NaN</td>\n",
       "    </tr>\n",
       "  </tbody>\n",
       "</table>\n",
       "</div>"
      ],
      "text/plain": [
       "   SerialNumber  ListYear DateRecorded      Town          Address  \\\n",
       "0         17001      2017   10/02/2017   Andover     27 HENDEE RD   \n",
       "1         40043      2004   05/19/2005   Andover    BURNAP BRK RD   \n",
       "2         30070      2003   08/02/2004   Andover          ROUTE 6   \n",
       "3         40036      2004   04/29/2005   Andover          ROUTE 6   \n",
       "4        170003      2017   10/02/2017  Branford  22-24 SILVER ST   \n",
       "\n",
       "   AssessedValue  SaleAmount  SalesRatio PropertyType ResidentialType  \\\n",
       "0        58400.0     82000.0       0.712          NaN   Single Family   \n",
       "1          850.0     50000.0       1.700  Vacant Land             NaN   \n",
       "2       157300.0    175000.0      89.880  Vacant Land             NaN   \n",
       "3        22400.0     20000.0     112.000  Vacant Land             NaN   \n",
       "4       205500.0    357500.0       0.575          NaN      Two Family   \n",
       "\n",
       "  NonUseCode Remarks  NumberOfBuildings  \n",
       "0        NaN     NaN                NaN  \n",
       "1         28     NaN                NaN  \n",
       "2          0     NaN                NaN  \n",
       "3         25     NaN                NaN  \n",
       "4        NaN     NaN                NaN  "
      ]
     },
     "execution_count": 58,
     "metadata": {},
     "output_type": "execute_result"
    }
   ],
   "source": [
    "real_estate.head()"
   ]
  },
  {
   "cell_type": "code",
   "execution_count": 59,
   "metadata": {},
   "outputs": [
    {
     "data": {
      "text/plain": [
       "845144"
      ]
     },
     "execution_count": 59,
     "metadata": {},
     "output_type": "execute_result"
    }
   ],
   "source": [
    "real_estate['SerialNumber'].duplicated().sum()"
   ]
  },
  {
   "cell_type": "markdown",
   "metadata": {},
   "source": [
    "- Ideally there shouldn't be duplicates values in the Serial Number column. It ahould contain unique values. I believe the data was gathered from different tables. I'll skip it as it does not affect my analysis."
   ]
  },
  {
   "cell_type": "code",
   "execution_count": 60,
   "metadata": {},
   "outputs": [
    {
     "name": "stdout",
     "output_type": "stream",
     "text": [
      "<class 'pandas.core.frame.DataFrame'>\n",
      "RangeIndex: 912302 entries, 0 to 912301\n",
      "Data columns (total 13 columns):\n",
      " #   Column             Non-Null Count   Dtype  \n",
      "---  ------             --------------   -----  \n",
      " 0   SerialNumber       912302 non-null  int64  \n",
      " 1   ListYear           912302 non-null  int64  \n",
      " 2   DateRecorded       912294 non-null  object \n",
      " 3   Town               912302 non-null  object \n",
      " 4   Address            912251 non-null  object \n",
      " 5   AssessedValue      911998 non-null  float64\n",
      " 6   SaleAmount         881510 non-null  float64\n",
      " 7   SalesRatio         911469 non-null  float64\n",
      " 8   PropertyType       812319 non-null  object \n",
      " 9   ResidentialType    699105 non-null  object \n",
      " 10  NonUseCode         538939 non-null  object \n",
      " 11  Remarks            132036 non-null  object \n",
      " 12  NumberOfBuildings  50705 non-null   float64\n",
      "dtypes: float64(4), int64(2), object(7)\n",
      "memory usage: 90.5+ MB\n"
     ]
    }
   ],
   "source": [
    "real_estate.info()"
   ]
  },
  {
   "cell_type": "code",
   "execution_count": 61,
   "metadata": {},
   "outputs": [],
   "source": [
    "real_estate['SaleAmount'].fillna(0, inplace = True)"
   ]
  },
  {
   "cell_type": "code",
   "execution_count": 62,
   "metadata": {},
   "outputs": [],
   "source": [
    "real_estate['PropertyType'] = real_estate['PropertyType'].astype('category')\n",
    "real_estate['ResidentialType'] = real_estate['ResidentialType'].astype('category')\n",
    "real_estate['NumberOfBuildings'] = real_estate['NumberOfBuildings'].astype('category')\n",
    "real_estate['ListYear'] = real_estate['ListYear'].astype('category')"
   ]
  },
  {
   "cell_type": "code",
   "execution_count": 63,
   "metadata": {},
   "outputs": [
    {
     "name": "stdout",
     "output_type": "stream",
     "text": [
      "<class 'pandas.core.frame.DataFrame'>\n",
      "RangeIndex: 912302 entries, 0 to 912301\n",
      "Data columns (total 13 columns):\n",
      " #   Column             Non-Null Count   Dtype   \n",
      "---  ------             --------------   -----   \n",
      " 0   SerialNumber       912302 non-null  int64   \n",
      " 1   ListYear           912302 non-null  category\n",
      " 2   DateRecorded       912294 non-null  object  \n",
      " 3   Town               912302 non-null  object  \n",
      " 4   Address            912251 non-null  object  \n",
      " 5   AssessedValue      911998 non-null  float64 \n",
      " 6   SaleAmount         912302 non-null  float64 \n",
      " 7   SalesRatio         911469 non-null  float64 \n",
      " 8   PropertyType       812319 non-null  category\n",
      " 9   ResidentialType    699105 non-null  category\n",
      " 10  NonUseCode         538939 non-null  object  \n",
      " 11  Remarks            132036 non-null  object  \n",
      " 12  NumberOfBuildings  50705 non-null   category\n",
      "dtypes: category(4), float64(3), int64(1), object(5)\n",
      "memory usage: 66.1+ MB\n"
     ]
    }
   ],
   "source": [
    "real_estate.info()"
   ]
  },
  {
   "cell_type": "markdown",
   "metadata": {},
   "source": [
    "- There are some empty fields, It is expected beacause some features are prerequisites to others "
   ]
  },
  {
   "cell_type": "markdown",
   "metadata": {},
   "source": [
    "Now lets dive into explorinng the data to see how each feature affects the Sale Amount of the houses "
   ]
  },
  {
   "cell_type": "markdown",
   "metadata": {},
   "source": [
    "## List Year"
   ]
  },
  {
   "cell_type": "code",
   "execution_count": 64,
   "metadata": {},
   "outputs": [
    {
     "data": {
      "text/html": [
       "<div>\n",
       "<style scoped>\n",
       "    .dataframe tbody tr th:only-of-type {\n",
       "        vertical-align: middle;\n",
       "    }\n",
       "\n",
       "    .dataframe tbody tr th {\n",
       "        vertical-align: top;\n",
       "    }\n",
       "\n",
       "    .dataframe thead tr th {\n",
       "        text-align: left;\n",
       "    }\n",
       "</style>\n",
       "<table border=\"1\" class=\"dataframe\">\n",
       "  <thead>\n",
       "    <tr>\n",
       "      <th></th>\n",
       "      <th>Year Listed</th>\n",
       "      <th colspan=\"2\" halign=\"left\">Features</th>\n",
       "    </tr>\n",
       "    <tr>\n",
       "      <th></th>\n",
       "      <th></th>\n",
       "      <th>Number of properties</th>\n",
       "      <th>Average Price</th>\n",
       "    </tr>\n",
       "  </thead>\n",
       "  <tbody>\n",
       "    <tr>\n",
       "      <th>0</th>\n",
       "      <td>2016</td>\n",
       "      <td>49773</td>\n",
       "      <td>480371.0</td>\n",
       "    </tr>\n",
       "    <tr>\n",
       "      <th>1</th>\n",
       "      <td>2006</td>\n",
       "      <td>48775</td>\n",
       "      <td>445002.0</td>\n",
       "    </tr>\n",
       "    <tr>\n",
       "      <th>2</th>\n",
       "      <td>2007</td>\n",
       "      <td>35616</td>\n",
       "      <td>404454.0</td>\n",
       "    </tr>\n",
       "    <tr>\n",
       "      <th>3</th>\n",
       "      <td>2017</td>\n",
       "      <td>45692</td>\n",
       "      <td>393259.0</td>\n",
       "    </tr>\n",
       "    <tr>\n",
       "      <th>4</th>\n",
       "      <td>2018</td>\n",
       "      <td>50705</td>\n",
       "      <td>383738.0</td>\n",
       "    </tr>\n",
       "    <tr>\n",
       "      <th>5</th>\n",
       "      <td>2014</td>\n",
       "      <td>49563</td>\n",
       "      <td>378962.0</td>\n",
       "    </tr>\n",
       "    <tr>\n",
       "      <th>6</th>\n",
       "      <td>2013</td>\n",
       "      <td>39943</td>\n",
       "      <td>374854.0</td>\n",
       "    </tr>\n",
       "    <tr>\n",
       "      <th>7</th>\n",
       "      <td>2012</td>\n",
       "      <td>35973</td>\n",
       "      <td>370890.0</td>\n",
       "    </tr>\n",
       "    <tr>\n",
       "      <th>8</th>\n",
       "      <td>2011</td>\n",
       "      <td>31065</td>\n",
       "      <td>362343.0</td>\n",
       "    </tr>\n",
       "    <tr>\n",
       "      <th>9</th>\n",
       "      <td>2004</td>\n",
       "      <td>84056</td>\n",
       "      <td>361401.0</td>\n",
       "    </tr>\n",
       "    <tr>\n",
       "      <th>10</th>\n",
       "      <td>2005</td>\n",
       "      <td>61602</td>\n",
       "      <td>340838.0</td>\n",
       "    </tr>\n",
       "    <tr>\n",
       "      <th>11</th>\n",
       "      <td>2009</td>\n",
       "      <td>42508</td>\n",
       "      <td>332932.0</td>\n",
       "    </tr>\n",
       "    <tr>\n",
       "      <th>12</th>\n",
       "      <td>2015</td>\n",
       "      <td>46651</td>\n",
       "      <td>319619.0</td>\n",
       "    </tr>\n",
       "    <tr>\n",
       "      <th>13</th>\n",
       "      <td>2010</td>\n",
       "      <td>27755</td>\n",
       "      <td>306300.0</td>\n",
       "    </tr>\n",
       "    <tr>\n",
       "      <th>14</th>\n",
       "      <td>2003</td>\n",
       "      <td>64239</td>\n",
       "      <td>304686.0</td>\n",
       "    </tr>\n",
       "    <tr>\n",
       "      <th>15</th>\n",
       "      <td>2008</td>\n",
       "      <td>32734</td>\n",
       "      <td>304603.0</td>\n",
       "    </tr>\n",
       "    <tr>\n",
       "      <th>16</th>\n",
       "      <td>2002</td>\n",
       "      <td>106068</td>\n",
       "      <td>292113.0</td>\n",
       "    </tr>\n",
       "    <tr>\n",
       "      <th>17</th>\n",
       "      <td>2001</td>\n",
       "      <td>59584</td>\n",
       "      <td>234564.0</td>\n",
       "    </tr>\n",
       "  </tbody>\n",
       "</table>\n",
       "</div>"
      ],
      "text/plain": [
       "   Year Listed             Features              \n",
       "               Number of properties Average Price\n",
       "0         2016                49773      480371.0\n",
       "1         2006                48775      445002.0\n",
       "2         2007                35616      404454.0\n",
       "3         2017                45692      393259.0\n",
       "4         2018                50705      383738.0\n",
       "5         2014                49563      378962.0\n",
       "6         2013                39943      374854.0\n",
       "7         2012                35973      370890.0\n",
       "8         2011                31065      362343.0\n",
       "9         2004                84056      361401.0\n",
       "10        2005                61602      340838.0\n",
       "11        2009                42508      332932.0\n",
       "12        2015                46651      319619.0\n",
       "13        2010                27755      306300.0\n",
       "14        2003                64239      304686.0\n",
       "15        2008                32734      304603.0\n",
       "16        2002               106068      292113.0\n",
       "17        2001                59584      234564.0"
      ]
     },
     "execution_count": 64,
     "metadata": {},
     "output_type": "execute_result"
    }
   ],
   "source": [
    "year_grp = real_estate[['ListYear', 'SaleAmount']].groupby('ListYear', as_index = False).agg(['count', 'mean']).round()\n",
    "year_grp = year_grp.sort_values(by = ('SaleAmount', 'mean'), ascending = False)\n",
    "year_grp = year_grp.reset_index()\n",
    "year_grp.rename(columns = {'SaleAmount': 'Features', 'count': 'Number of properties', 'mean':'Average Price', \n",
    "                           'ListYear':'Year Listed'}, inplace = True)\n",
    "year_grp"
   ]
  },
  {
   "cell_type": "markdown",
   "metadata": {},
   "source": [
    "- As seen above most properties that were listed were listed in 2002, followed by 2004 then 2003"
   ]
  },
  {
   "cell_type": "code",
   "execution_count": 65,
   "metadata": {},
   "outputs": [
    {
     "data": {
      "image/png": "[encoded data removed]",
      "text/plain": [
       "<Figure size 1512x432 with 2 Axes>"
      ]
     },
     "metadata": {
      "needs_background": "light"
     },
     "output_type": "display_data"
    }
   ],
   "source": [
    "fig, ax = plt.subplots(1, 2, figsize = (21, 6))\n",
    "\n",
    "sns.countplot('ListYear',data = real_estate, ax = ax[0])\n",
    "ax[0].set_title(\"DISTRIBUTION OF LISTED CARS BY YEAR LISTED\")\n",
    "ax[0].set_xlabel(\"Year Listed\")\n",
    "ax[0].set_ylabel(\"Number of Properties\")\n",
    "ax[0].tick_params(axis = 'x', rotation = -45)\n",
    "\n",
    "sns.lineplot('ListYear', 'SaleAmount', data = real_estate)\n",
    "plt.setp(ax[1].get_xticklabels(), rotation = -45)\n",
    "ax[1].set_title(\"RELATIONSHIP  BETWEEN THE LIST YEAR AND SALE PRICE \")\n",
    "ax[1].set_xlabel(\"Year Listed\")\n",
    "ax[1].set_ylabel(\"Amount Sold\")\n",
    "ax[1].xaxis.set_ticks(real_estate['ListYear'].unique())\n",
    "ax[1].yaxis.set_label_position('right')\n",
    "ax[1].yaxis.set_ticks_position('right')\n",
    "\n",
    "plt.tight_layout()\n",
    "plt.show()"
   ]
  },
  {
   "cell_type": "markdown",
   "metadata": {},
   "source": [
    "- Generally the year the properties were listed affected the Sale amount althought there were some exeptions"
   ]
  },
  {
   "cell_type": "markdown",
   "metadata": {},
   "source": [
    "## **Property Type**"
   ]
  },
  {
   "cell_type": "code",
   "execution_count": 66,
   "metadata": {},
   "outputs": [
    {
     "data": {
      "text/html": [
       "<div>\n",
       "<style scoped>\n",
       "    .dataframe tbody tr th:only-of-type {\n",
       "        vertical-align: middle;\n",
       "    }\n",
       "\n",
       "    .dataframe tbody tr th {\n",
       "        vertical-align: top;\n",
       "    }\n",
       "\n",
       "    .dataframe thead tr th {\n",
       "        text-align: left;\n",
       "    }\n",
       "</style>\n",
       "<table border=\"1\" class=\"dataframe\">\n",
       "  <thead>\n",
       "    <tr>\n",
       "      <th></th>\n",
       "      <th>Property Type</th>\n",
       "      <th colspan=\"2\" halign=\"left\">Features</th>\n",
       "    </tr>\n",
       "    <tr>\n",
       "      <th></th>\n",
       "      <th></th>\n",
       "      <th>Average Price</th>\n",
       "      <th>Number of Propertues</th>\n",
       "    </tr>\n",
       "  </thead>\n",
       "  <tbody>\n",
       "    <tr>\n",
       "      <th>0</th>\n",
       "      <td>Apartments</td>\n",
       "      <td>1122859.0</td>\n",
       "      <td>5949</td>\n",
       "    </tr>\n",
       "    <tr>\n",
       "      <th>1</th>\n",
       "      <td>Commercial</td>\n",
       "      <td>948555.0</td>\n",
       "      <td>32262</td>\n",
       "    </tr>\n",
       "    <tr>\n",
       "      <th>2</th>\n",
       "      <td>Industrial</td>\n",
       "      <td>884586.0</td>\n",
       "      <td>4181</td>\n",
       "    </tr>\n",
       "    <tr>\n",
       "      <th>3</th>\n",
       "      <td>Residential</td>\n",
       "      <td>339390.0</td>\n",
       "      <td>602891</td>\n",
       "    </tr>\n",
       "    <tr>\n",
       "      <th>4</th>\n",
       "      <td>Public Utility</td>\n",
       "      <td>210158.0</td>\n",
       "      <td>141</td>\n",
       "    </tr>\n",
       "    <tr>\n",
       "      <th>5</th>\n",
       "      <td>Condo</td>\n",
       "      <td>209924.0</td>\n",
       "      <td>120528</td>\n",
       "    </tr>\n",
       "    <tr>\n",
       "      <th>6</th>\n",
       "      <td>Vacant Land</td>\n",
       "      <td>186577.0</td>\n",
       "      <td>46356</td>\n",
       "    </tr>\n",
       "    <tr>\n",
       "      <th>7</th>\n",
       "      <td>10 Mill Forest</td>\n",
       "      <td>166378.0</td>\n",
       "      <td>11</td>\n",
       "    </tr>\n",
       "  </tbody>\n",
       "</table>\n",
       "</div>"
      ],
      "text/plain": [
       "    Property Type      Features                     \n",
       "                  Average Price Number of Propertues\n",
       "0      Apartments     1122859.0                 5949\n",
       "1      Commercial      948555.0                32262\n",
       "2      Industrial      884586.0                 4181\n",
       "3     Residential      339390.0               602891\n",
       "4  Public Utility      210158.0                  141\n",
       "5           Condo      209924.0               120528\n",
       "6     Vacant Land      186577.0                46356\n",
       "7  10 Mill Forest      166378.0                   11"
      ]
     },
     "execution_count": 66,
     "metadata": {},
     "output_type": "execute_result"
    }
   ],
   "source": [
    "type_grp = real_estate[['PropertyType', 'SaleAmount']].groupby('PropertyType', as_index = False).agg(['mean', 'count']).round()\n",
    "type_grp = type_grp.sort_values(by = ('SaleAmount', 'mean'), ascending = False)\n",
    "type_grp = type_grp.reset_index()\n",
    "type_grp.rename(columns = {'SaleAmount':'Features', 'mean': 'Average Price', 'count': 'Number of Propertues',\n",
    "                          'PropertyType': 'Property Type'}, inplace = True)\n",
    "type_grp"
   ]
  },
  {
   "cell_type": "markdown",
   "metadata": {},
   "source": [
    "-  As seen above most properties are Residential properties followed by Condo then Vacant lands and Apartments have the highest average price "
   ]
  },
  {
   "cell_type": "code",
   "execution_count": 67,
   "metadata": {},
   "outputs": [
    {
     "data": {
      "image/png": "[encoded data removed]",
      "text/plain": [
       "<Figure size 1152x432 with 1 Axes>"
      ]
     },
     "metadata": {
      "needs_background": "light"
     },
     "output_type": "display_data"
    }
   ],
   "source": [
    "plt.figure(figsize = (16, 6))\n",
    "sns.barplot( 'PropertyType','SaleAmount', data = real_estate)\n",
    "plt.ylabel(\"Price of Properties\")\n",
    "plt.xlabel(\"Property Type\")\n",
    "plt.title(\"RELATIONSHIP BETWEEN THE PRICE OF PROPERTIES IN CONNECTICUT AND \\n PROPERTY TYPE\")\n",
    "plt.show()"
   ]
  },
  {
   "cell_type": "markdown",
   "metadata": {},
   "source": [
    "- Generally It can be said that the type of property affects the sale price of the properties"
   ]
  },
  {
   "cell_type": "markdown",
   "metadata": {},
   "source": [
    "## **Residential Type**"
   ]
  },
  {
   "cell_type": "code",
   "execution_count": 68,
   "metadata": {},
   "outputs": [
    {
     "name": "stdout",
     "output_type": "stream",
     "text": [
      "NUMBER OF PROPERTIES BY RESIDENTIAL TYPE\n",
      "Single Family     614927\n",
      "Two Family         39037\n",
      "Three Family       19453\n",
      "Condo Family       16180\n",
      "Vacant Land         3555\n",
      "Commercial          3297\n",
      "Four Family         1332\n",
      "Apartments           543\n",
      "Industrial           404\n",
      "Residential          292\n",
      "Multi Family          76\n",
      "Public Utility         9\n",
      "Name: ResidentialType, dtype: int64\n"
     ]
    }
   ],
   "source": [
    "print(\"NUMBER OF PROPERTIES BY RESIDENTIAL TYPE\")\n",
    "print(real_estate['ResidentialType'].value_counts())"
   ]
  },
  {
   "cell_type": "markdown",
   "metadata": {},
   "source": [
    "- Most of the properties are Single family residential types "
   ]
  },
  {
   "cell_type": "code",
   "execution_count": 69,
   "metadata": {},
   "outputs": [
    {
     "data": {
      "image/png": "[encoded data removed]",
      "text/plain": [
       "<Figure size 1008x432 with 1 Axes>"
      ]
     },
     "metadata": {
      "needs_background": "light"
     },
     "output_type": "display_data"
    }
   ],
   "source": [
    "plt.figure(figsize = (14, 6))\n",
    "sns.barplot( 'ResidentialType','SaleAmount', data = real_estate)\n",
    "plt.xticks(rotation = -45)\n",
    "plt.xlabel('Residential Type')\n",
    "plt.ylabel('Amount Sold')\n",
    "plt.title(\"RELATIONSHIP BETWEEN RESIDENTIAL TYPE OF PROPERTIES AND \\n AMOUNT SOLD\")\n",
    "plt.show()"
   ]
  },
  {
   "cell_type": "markdown",
   "metadata": {},
   "source": [
    "## **Assesed Value and Sale Amount**"
   ]
  },
  {
   "cell_type": "code",
   "execution_count": 90,
   "metadata": {},
   "outputs": [],
   "source": [
    "real_estate['Sale difference'] = real_estate['SaleAmount'] - real_estate['AssessedValue']\n",
    "real_estate['Percentage difference'] = (real_estate['Sale difference']/real_estate['SaleAmount']) * 100\n",
    "real_estate['Percentage difference'] = real_estate['Percentage difference'].round()"
   ]
  },
  {
   "cell_type": "code",
   "execution_count": 91,
   "metadata": {},
   "outputs": [
    {
     "data": {
      "text/html": [
       "<div>\n",
       "<style scoped>\n",
       "    .dataframe tbody tr th:only-of-type {\n",
       "        vertical-align: middle;\n",
       "    }\n",
       "\n",
       "    .dataframe tbody tr th {\n",
       "        vertical-align: top;\n",
       "    }\n",
       "\n",
       "    .dataframe thead th {\n",
       "        text-align: right;\n",
       "    }\n",
       "</style>\n",
       "<table border=\"1\" class=\"dataframe\">\n",
       "  <thead>\n",
       "    <tr style=\"text-align: right;\">\n",
       "      <th></th>\n",
       "      <th>SerialNumber</th>\n",
       "      <th>ListYear</th>\n",
       "      <th>DateRecorded</th>\n",
       "      <th>Town</th>\n",
       "      <th>Address</th>\n",
       "      <th>AssessedValue</th>\n",
       "      <th>SaleAmount</th>\n",
       "      <th>SalesRatio</th>\n",
       "      <th>PropertyType</th>\n",
       "      <th>ResidentialType</th>\n",
       "      <th>NonUseCode</th>\n",
       "      <th>Remarks</th>\n",
       "      <th>NumberOfBuildings</th>\n",
       "      <th>Sale difference</th>\n",
       "      <th>Percentage difference</th>\n",
       "    </tr>\n",
       "  </thead>\n",
       "  <tbody>\n",
       "    <tr>\n",
       "      <th>0</th>\n",
       "      <td>17001</td>\n",
       "      <td>2017</td>\n",
       "      <td>10/02/2017</td>\n",
       "      <td>Andover</td>\n",
       "      <td>27 HENDEE RD</td>\n",
       "      <td>58400.0</td>\n",
       "      <td>82000.0</td>\n",
       "      <td>0.712</td>\n",
       "      <td>NaN</td>\n",
       "      <td>Single Family</td>\n",
       "      <td>NaN</td>\n",
       "      <td>NaN</td>\n",
       "      <td>NaN</td>\n",
       "      <td>23600.0</td>\n",
       "      <td>29.0</td>\n",
       "    </tr>\n",
       "    <tr>\n",
       "      <th>1</th>\n",
       "      <td>40043</td>\n",
       "      <td>2004</td>\n",
       "      <td>05/19/2005</td>\n",
       "      <td>Andover</td>\n",
       "      <td>BURNAP BRK RD</td>\n",
       "      <td>850.0</td>\n",
       "      <td>50000.0</td>\n",
       "      <td>1.700</td>\n",
       "      <td>Vacant Land</td>\n",
       "      <td>NaN</td>\n",
       "      <td>28</td>\n",
       "      <td>NaN</td>\n",
       "      <td>NaN</td>\n",
       "      <td>49150.0</td>\n",
       "      <td>98.0</td>\n",
       "    </tr>\n",
       "    <tr>\n",
       "      <th>2</th>\n",
       "      <td>30070</td>\n",
       "      <td>2003</td>\n",
       "      <td>08/02/2004</td>\n",
       "      <td>Andover</td>\n",
       "      <td>ROUTE 6</td>\n",
       "      <td>157300.0</td>\n",
       "      <td>175000.0</td>\n",
       "      <td>89.880</td>\n",
       "      <td>Vacant Land</td>\n",
       "      <td>NaN</td>\n",
       "      <td>0</td>\n",
       "      <td>NaN</td>\n",
       "      <td>NaN</td>\n",
       "      <td>17700.0</td>\n",
       "      <td>10.0</td>\n",
       "    </tr>\n",
       "    <tr>\n",
       "      <th>3</th>\n",
       "      <td>40036</td>\n",
       "      <td>2004</td>\n",
       "      <td>04/29/2005</td>\n",
       "      <td>Andover</td>\n",
       "      <td>ROUTE 6</td>\n",
       "      <td>22400.0</td>\n",
       "      <td>20000.0</td>\n",
       "      <td>112.000</td>\n",
       "      <td>Vacant Land</td>\n",
       "      <td>NaN</td>\n",
       "      <td>25</td>\n",
       "      <td>NaN</td>\n",
       "      <td>NaN</td>\n",
       "      <td>-2400.0</td>\n",
       "      <td>-12.0</td>\n",
       "    </tr>\n",
       "    <tr>\n",
       "      <th>4</th>\n",
       "      <td>170003</td>\n",
       "      <td>2017</td>\n",
       "      <td>10/02/2017</td>\n",
       "      <td>Branford</td>\n",
       "      <td>22-24 SILVER ST</td>\n",
       "      <td>205500.0</td>\n",
       "      <td>357500.0</td>\n",
       "      <td>0.575</td>\n",
       "      <td>NaN</td>\n",
       "      <td>Two Family</td>\n",
       "      <td>NaN</td>\n",
       "      <td>NaN</td>\n",
       "      <td>NaN</td>\n",
       "      <td>152000.0</td>\n",
       "      <td>43.0</td>\n",
       "    </tr>\n",
       "  </tbody>\n",
       "</table>\n",
       "</div>"
      ],
      "text/plain": [
       "   SerialNumber ListYear DateRecorded      Town          Address  \\\n",
       "0         17001     2017   10/02/2017   Andover     27 HENDEE RD   \n",
       "1         40043     2004   05/19/2005   Andover    BURNAP BRK RD   \n",
       "2         30070     2003   08/02/2004   Andover          ROUTE 6   \n",
       "3         40036     2004   04/29/2005   Andover          ROUTE 6   \n",
       "4        170003     2017   10/02/2017  Branford  22-24 SILVER ST   \n",
       "\n",
       "   AssessedValue  SaleAmount  SalesRatio PropertyType ResidentialType  \\\n",
       "0        58400.0     82000.0       0.712          NaN   Single Family   \n",
       "1          850.0     50000.0       1.700  Vacant Land             NaN   \n",
       "2       157300.0    175000.0      89.880  Vacant Land             NaN   \n",
       "3        22400.0     20000.0     112.000  Vacant Land             NaN   \n",
       "4       205500.0    357500.0       0.575          NaN      Two Family   \n",
       "\n",
       "  NonUseCode Remarks NumberOfBuildings  Sale difference  Percentage difference  \n",
       "0        NaN     NaN               NaN          23600.0                   29.0  \n",
       "1         28     NaN               NaN          49150.0                   98.0  \n",
       "2          0     NaN               NaN          17700.0                   10.0  \n",
       "3         25     NaN               NaN          -2400.0                  -12.0  \n",
       "4        NaN     NaN               NaN         152000.0                   43.0  "
      ]
     },
     "execution_count": 91,
     "metadata": {},
     "output_type": "execute_result"
    }
   ],
   "source": [
    "real_estate.head()"
   ]
  },
  {
   "cell_type": "markdown",
   "metadata": {},
   "source": [
    "- The difference between the Sale Amount and the Actual Price has been added to the columns and also the percentage of the difference"
   ]
  },
  {
   "cell_type": "code",
   "execution_count": null,
   "metadata": {},
   "outputs": [],
   "source": []
  }
 ],
 "metadata": {
  "kernelspec": {
   "display_name": "Python 3",
   "language": "python",
   "name": "python3"
  },
  "language_info": {
   "codemirror_mode": {
    "name": "ipython",
    "version": 3
   },
   "file_extension": ".py",
   "mimetype": "text/x-python",
   "name": "python",
   "nbconvert_exporter": "python",
   "pygments_lexer": "ipython3",
   "version": "3.8.5"
  }
 },
 "nbformat": 4,
 "nbformat_minor": 4
}
